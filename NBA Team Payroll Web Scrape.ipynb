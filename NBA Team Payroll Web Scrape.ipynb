{
 "cells": [
  {
   "cell_type": "code",
   "execution_count": 6,
   "id": "07e64928",
   "metadata": {},
   "outputs": [],
   "source": [
    "##Logan Lauton\n",
    "\n",
    "##importing packages needed for scrape\n",
    "import pandas as pd\n",
    "\n",
    "##setting up empty df to fill in from scrape\n",
    "df = pd.DataFrame(columns=['team', 'seasonStartYear', 'payroll', 'inflationAdjPayroll'])\n",
    "\n",
    "##loop that scrapes team payrole data for the 1990-91 season until the 2021-22 season\n",
    "for year in range(1991, 2022):\n",
    "    url = 'https://hoopshype.com/salaries/{}-{}/'.format(year-1, year)\n",
    "    table = pd.io.html.read_html(url)[0]\n",
    "    table.drop(columns=['Unnamed: 0'], inplace=True)\n",
    "    table.set_axis(['team', 'payroll', 'inflationAdjPayroll'], axis=1, inplace=True)\n",
    "    table['seasonStartYear'] = year - 1\n",
    "    \n",
    "    df = pd.concat([df, table])"
   ]
  },
  {
   "cell_type": "code",
   "execution_count": 7,
   "id": "8e88744e",
   "metadata": {},
   "outputs": [],
   "source": [
    "##individually adding season 2021-2022 as it wasn't added from initial scrape\n",
    "url = 'https://hoopshype.com/salaries/2021-2022/'\n",
    "table = pd.io.html.read_html(url)[0]\n",
    "table.drop(columns=['Unnamed: 0'], inplace=True)\n",
    "table.set_axis(['team', 'payroll', 'inflationAdjPayroll'], axis=1, inplace=True)\n",
    "table['seasonStartYear'] = year - 1\n",
    "    \n",
    "df = pd.concat([df, table])"
   ]
  },
  {
   "cell_type": "code",
   "execution_count": 9,
   "id": "fdd66884",
   "metadata": {},
   "outputs": [],
   "source": [
    "df.to_csv('NBA Payroll(1990-2023).csv', index = True)"
   ]
  }
 ],
 "metadata": {
  "kernelspec": {
   "display_name": "Python 3 (ipykernel)",
   "language": "python",
   "name": "python3"
  },
  "language_info": {
   "codemirror_mode": {
    "name": "ipython",
    "version": 3
   },
   "file_extension": ".py",
   "mimetype": "text/x-python",
   "name": "python",
   "nbconvert_exporter": "python",
   "pygments_lexer": "ipython3",
   "version": "3.7.12"
  }
 },
 "nbformat": 4,
 "nbformat_minor": 5
}
