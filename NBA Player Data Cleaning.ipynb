{
 "cells": [
  {
   "cell_type": "code",
   "execution_count": 1,
   "id": "a249edd5",
   "metadata": {},
   "outputs": [],
   "source": [
    "##Logan Lauton\n",
    "\n",
    "##importing packages required for this dataset\n",
    "import pandas as pd\n",
    "\n",
    "##import csv to clean\n",
    "df = pd.read_csv('NBA Player Stats(1950 - 2022).csv')\n",
    "\n",
    "##removal of rows containing the column names\n",
    "df = df[df['Player']!='Player']\n",
    "\n",
    "##exporting as csv with same name to over write\n",
    "df.to_csv('NBA Player Stats(1950 - 2022).csv', index = True)"
   ]
  }
 ],
 "metadata": {
  "kernelspec": {
   "display_name": "Python 3 (ipykernel)",
   "language": "python",
   "name": "python3"
  },
  "language_info": {
   "codemirror_mode": {
    "name": "ipython",
    "version": 3
   },
   "file_extension": ".py",
   "mimetype": "text/x-python",
   "name": "python",
   "nbconvert_exporter": "python",
   "pygments_lexer": "ipython3",
   "version": "3.7.12"
  }
 },
 "nbformat": 4,
 "nbformat_minor": 5
}
