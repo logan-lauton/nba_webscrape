{
 "cells": [
  {
   "cell_type": "code",
   "execution_count": 1,
   "id": "2b4de2c5",
   "metadata": {
    "scrolled": true
   },
   "outputs": [
    {
     "name": "stdout",
     "output_type": "stream",
     "text": [
      "Table not found on the page.\n"
     ]
    }
   ],
   "source": [
    "import requests\n",
    "from bs4 import BeautifulSoup\n",
    "import pandas as pd\n",
    "\n",
    "url = \"https://www.nba.com/stats/players/boxscores?Season=2021-22\"\n",
    "\n",
    "# Send a request to the URL and store the response\n",
    "response = requests.get(url)\n",
    "\n",
    "# Parse the HTML content of the response\n",
    "soup = BeautifulSoup(response.content, \"html.parser\")\n",
    "\n",
    "# Find the table containing the box score data\n",
    "table = soup.find(\"table\", attrs={\"class\": \"Crom_table__p1iZz\"})\n",
    "\n",
    "if table:\n",
    "    # Extract the column headers\n",
    "    headers = []\n",
    "    for th in table.find_all(\"th\"):\n",
    "        headers.append(th.text.strip())\n",
    "\n",
    "    # Extract the rows of data\n",
    "    data = []\n",
    "    for tr in table.find_all(\"tr\")[1:]:\n",
    "        row = []\n",
    "        for td in tr.find_all(\"td\"):\n",
    "            row.append(td.text.strip())\n",
    "        data.append(row)\n",
    "\n",
    "    # Create a pandas dataframe from the headers and data\n",
    "    df = pd.DataFrame(data, columns=headers)\n",
    "\n",
    "    # Output the dataframe\n",
    "    print(df)\n",
    "else:\n",
    "    print(\"Table not found on the page.\")\n"
   ]
  },
  {
   "cell_type": "code",
   "execution_count": null,
   "id": "a50b171a",
   "metadata": {},
   "outputs": [],
   "source": [
    "##exporting df as csv\n",
    "df.to_csv('NBA Player Box Score Stats(1950 - 2022).csv', index = True)"
   ]
  }
 ],
 "metadata": {
  "kernelspec": {
   "display_name": "Python 3 (ipykernel)",
   "language": "python",
   "name": "python3"
  },
  "language_info": {
   "codemirror_mode": {
    "name": "ipython",
    "version": 3
   },
   "file_extension": ".py",
   "mimetype": "text/x-python",
   "name": "python",
   "nbconvert_exporter": "python",
   "pygments_lexer": "ipython3",
   "version": "3.7.12"
  }
 },
 "nbformat": 4,
 "nbformat_minor": 5
}
