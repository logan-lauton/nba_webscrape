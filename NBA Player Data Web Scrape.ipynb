{
 "cells": [
  {
   "cell_type": "code",
   "execution_count": 1,
   "id": "2b4de2c5",
   "metadata": {},
   "outputs": [],
   "source": [
    "##Logan Lauton\n",
    "\n",
    "##importing packages needed for scrape\n",
    "from urllib.request import urlopen\n",
    "from bs4 import BeautifulSoup\n",
    "import pandas as pd\n",
    "import time\n",
    "\n",
    "##code below grabbed from https://raihanafiandi.medium.com/scraping-basketball-reference-data-using-python-f321c3f2903e\n",
    "def single(season):\n",
    "    url = f'https://www.basketball-reference.com/leagues/NBA_{season}_totals.html'\n",
    "    table_html = BeautifulSoup(urlopen(url), 'html.parser').findAll('table')\n",
    "    df = pd.read_html(str(table_html))[0]\n",
    "    df = df.drop('Rk', 1) # drop Rk columns\n",
    "    df.Player = df.Player.str.replace('*','') # remove asterisk on player's name\n",
    "    df.insert(0,'Season',season) # insert season column\n",
    "    df = df.apply(pd.to_numeric, errors='coerce').fillna(df) # convert non string values to numeric\n",
    "    return df\n",
    "\n",
    "##function taken from same link above, altered to sleep to avoid too many requests error \n",
    "def multiple(start_year,end_year):\n",
    "    df = single(start_year)\n",
    "    while start_year < end_year:\n",
    "        time.sleep(4)                 ##code sleeps for 4 seconds between calls as 20 requests per minute\n",
    "        start_year = start_year + 1   ##are allowed meaning only 15 requests per minute will be made here\n",
    "        df = df.append(single(start_year))\n",
    "    return df"
   ]
  },
  {
   "cell_type": "code",
   "execution_count": 2,
   "id": "b48fff26",
   "metadata": {
    "scrolled": true
   },
   "outputs": [
    {
     "name": "stderr",
     "output_type": "stream",
     "text": [
      "/home/logan/py37/lib/python3.7/site-packages/ipykernel_launcher.py:15: FutureWarning: In a future version of pandas all arguments of DataFrame.drop except for the argument 'labels' will be keyword-only\n",
      "  from ipykernel import kernelapp as app\n",
      "/home/logan/py37/lib/python3.7/site-packages/ipykernel_launcher.py:16: FutureWarning: The default value of regex will change from True to False in a future version. In addition, single character regular expressions will *not* be treated as literal strings when regex=True.\n",
      "  app.launch_new_instance()\n"
     ]
    }
   ],
   "source": [
    "##calling for all NBA seasons data except current(1949-50 until 2021-22) as current season is not yet finished\n",
    "df = multiple(1950,2022)"
   ]
  },
  {
   "cell_type": "code",
   "execution_count": 3,
   "id": "b8e89a9c",
   "metadata": {},
   "outputs": [],
   "source": [
    "##exporting df as csv\n",
    "df.to_csv('NBA Player Stats(1950 - 2022).csv', index = True)"
   ]
  }
 ],
 "metadata": {
  "kernelspec": {
   "display_name": "Python 3 (ipykernel)",
   "language": "python",
   "name": "python3"
  },
  "language_info": {
   "codemirror_mode": {
    "name": "ipython",
    "version": 3
   },
   "file_extension": ".py",
   "mimetype": "text/x-python",
   "name": "python",
   "nbconvert_exporter": "python",
   "pygments_lexer": "ipython3",
   "version": "3.7.12"
  }
 },
 "nbformat": 4,
 "nbformat_minor": 5
}
